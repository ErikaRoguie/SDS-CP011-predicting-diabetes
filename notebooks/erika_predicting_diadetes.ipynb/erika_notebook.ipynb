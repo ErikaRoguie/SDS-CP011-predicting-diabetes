{
  "cells": [
	{
	  "cell_type": "code",
	  "execution_count": null,
	  "metadata": {},
	  "outputs": [],
	  "source": [
		"import pandas as pd\n",
		"import numpy as np\n",
		"import sklearn\n",
		"import seaborn as sns\n",
		"import matplotlib.pyplot as plt\n"
	  ]
	}
  ],
  "metadata": {},
  "nbformat": 4,
  "nbformat_minor": 2
}



